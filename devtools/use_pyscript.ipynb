{
  "cells": [
    {
      "cell_type": "markdown",
      "metadata": {
        "id": "view-in-github",
        "colab_type": "text"
      },
      "source": [
        "<a href=\"https://colab.research.google.com/github/thangckt/note_code/blob/main/notebook/5_webapp/0_overview.ipynb\" target=\"_parent\"><img src=\"https://colab.research.google.com/assets/colab-badge.svg\" alt=\"Open In Colab\"/></a>"
      ]
    },
    {
      "cell_type": "markdown",
      "metadata": {
        "id": "cUZ2jpHBG8Zl"
      },
      "source": [
        "# PyScript: Python in the Web Browser\n",
        "\n",
        "How does a PyScript compare with a server-based app?\n",
        "\n",
        "Is it easier than a Django or Flask app? Or Streamlit? Or Dash?\n",
        "\n",
        "- the advantage that PyScript has is that it does not need a server. That makes deployment extremely easy — I simply uploaded the app you see here to a Github Pages site and it just works.\n",
        "- A browser based app only needs to be copied to a web server and it will just work. A server based app, however, may need a little more effort to deploy it to a platform like Heroku, Azure or AWS.\n",
        "\n",
        "\n",
        "\n",
        "REFERENCES:\n",
        "- [Create an Interactive Web App with PyScript and Pandas](https://towardsdatascience.com/create-an-interactive-web-app-with-pyscript-and-pandas-3918ad2dada1)\n",
        "- [Some example apps](https://alanjones2.github.io/)\n",
        "- [A First Look at PyScript: Python in the Web Browser](https://realpython.com/pyscript-python-in-browser/)\n",
        "- [Deploy a Panel Visualization Dashboard to GitHub Pages](https://towardsdatascience.com/how-to-deploy-a-panel-visualization-dashboard-to-github-pages-2f520fd8660)"
      ]
    },
    {
      "cell_type": "markdown",
      "source": [
        "## Fetch the Python Runtime From the Internet vs Offline\n",
        "\n",
        "When you open your HTML file in a web browser, it'll take a few seconds to load a dozen additional resources from jsDelivr CDN, JavaScript's free Content Delivery Network for open-source projects. But sometimes CDN going down.\n",
        "\n",
        "If you don’t want to rely on PyScript’s hosting service, then you’ll need to download all the files required to run Python in the browser and host them yourself. You’ll need to download `pyscript.css`, `pyscript.js`, and `pyscript.py` to a folder where your HTML document is located. [1]\n",
        "```sh\n",
        "wget https://pyscript.net/alpha/pyscript.{css,js,py}\n",
        "```\n",
        "```PS\n",
        "foreach ($ext in \"css\", \"js\", \"py\") {wget \"https://pyscript.net/alpha/pyscript.$ext\" -o \"pyscript.$ext\"}\n",
        "```\n",
        "\n",
        "Online fetch:\n",
        "```html\n",
        "  <head>\n",
        "    ...\n",
        "  <link rel=\"stylesheet\" href=\"https://pyscript.net/alpha/pyscript.css\" />\n",
        "  <script defer src=\"https://pyscript.net/alpha/pyscript.js\"></script>\n",
        "  </head>\n",
        "```\n",
        "\n",
        "Offline:\n",
        "```html\n",
        "  <head>\n",
        "    ...\n",
        "  <link rel=\"stylesheet\" href=\"/pyscript.css\" />\n",
        "  <script defer src=\"/pyscript.js\"></script>\n",
        "  </head>\n",
        "```\n",
        "\n",
        "Start local HTTP server\n",
        "```\n",
        "python -m http.server\n",
        "```\n",
        "server’s root address at \n",
        "```\n",
        "http://localhost:8000/\n",
        "```\n",
        "\n",
        "then can run `html` by `http://localhost:8000/index.html`\n",
        "\n",
        "\n",
        "REFERENCE:\n",
        "- [1] [Download PyScript for Offline Development](https://realpython.com/pyscript-python-in-browser/#fetch-the-python-runtime-from-the-internet)"
      ],
      "metadata": {
        "id": "F3RjmFmD8Bfg"
      }
    }
  ],
  "metadata": {
    "colab": {
      "provenance": [],
      "include_colab_link": true
    },
    "kernelspec": {
      "display_name": "base",
      "language": "python",
      "name": "python3"
    },
    "language_info": {
      "name": "python",
      "version": "3.10.8 | packaged by conda-forge | (main, Nov 24 2022, 14:07:00) [MSC v.1916 64 bit (AMD64)]"
    },
    "orig_nbformat": 4,
    "vscode": {
      "interpreter": {
        "hash": "2b6e7cfdce5ef245d32482b7f80393907c6182a3f3a40203474e09cb3d62b454"
      }
    }
  },
  "nbformat": 4,
  "nbformat_minor": 0
}